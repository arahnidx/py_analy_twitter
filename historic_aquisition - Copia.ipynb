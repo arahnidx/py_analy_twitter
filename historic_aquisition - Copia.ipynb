{
 "cells": [
  {
   "cell_type": "code",
   "execution_count": 1,
   "id": "6ce98987",
   "metadata": {},
   "outputs": [],
   "source": [
    "#Load the required libraries\n",
    "import pandas as pd\n",
    "import yfinance as yf\n",
    "import seaborn as sns\n",
    "import matplotlib.pyplot as plt"
   ]
  },
  {
   "cell_type": "code",
   "execution_count": 2,
   "id": "03454a54",
   "metadata": {},
   "outputs": [],
   "source": [
    "cryptocurrencies = ['ETH-USD']"
   ]
  },
  {
   "cell_type": "code",
   "execution_count": 5,
   "id": "88a68fb4",
   "metadata": {},
   "outputs": [
    {
     "name": "stdout",
     "output_type": "stream",
     "text": [
      "[*********************100%***********************]  1 of 1 completed\n"
     ]
    },
    {
     "data": {
      "text/html": [
       "<div>\n",
       "<style scoped>\n",
       "    .dataframe tbody tr th:only-of-type {\n",
       "        vertical-align: middle;\n",
       "    }\n",
       "\n",
       "    .dataframe tbody tr th {\n",
       "        vertical-align: top;\n",
       "    }\n",
       "\n",
       "    .dataframe thead th {\n",
       "        text-align: right;\n",
       "    }\n",
       "</style>\n",
       "<table border=\"1\" class=\"dataframe\">\n",
       "  <thead>\n",
       "    <tr style=\"text-align: right;\">\n",
       "      <th></th>\n",
       "      <th>Open</th>\n",
       "      <th>High</th>\n",
       "      <th>Low</th>\n",
       "      <th>Close</th>\n",
       "      <th>Adj Close</th>\n",
       "      <th>Volume</th>\n",
       "    </tr>\n",
       "  </thead>\n",
       "  <tbody>\n",
       "    <tr>\n",
       "      <th>2021-01-01 03:00:00+00:00</th>\n",
       "      <td>745.017761</td>\n",
       "      <td>747.411865</td>\n",
       "      <td>744.676086</td>\n",
       "      <td>746.319946</td>\n",
       "      <td>746.319946</td>\n",
       "      <td>0</td>\n",
       "    </tr>\n",
       "    <tr>\n",
       "      <th>2021-01-01 04:00:00+00:00</th>\n",
       "      <td>746.279907</td>\n",
       "      <td>747.090393</td>\n",
       "      <td>741.740967</td>\n",
       "      <td>743.210693</td>\n",
       "      <td>743.210693</td>\n",
       "      <td>0</td>\n",
       "    </tr>\n",
       "    <tr>\n",
       "      <th>2021-01-01 05:00:00+00:00</th>\n",
       "      <td>743.104675</td>\n",
       "      <td>743.659363</td>\n",
       "      <td>740.996887</td>\n",
       "      <td>741.686218</td>\n",
       "      <td>741.686218</td>\n",
       "      <td>1162848256</td>\n",
       "    </tr>\n",
       "    <tr>\n",
       "      <th>2021-01-01 06:00:00+00:00</th>\n",
       "      <td>741.622742</td>\n",
       "      <td>743.457153</td>\n",
       "      <td>738.731140</td>\n",
       "      <td>739.942627</td>\n",
       "      <td>739.942627</td>\n",
       "      <td>0</td>\n",
       "    </tr>\n",
       "    <tr>\n",
       "      <th>2021-01-01 07:00:00+00:00</th>\n",
       "      <td>739.959351</td>\n",
       "      <td>741.063477</td>\n",
       "      <td>736.538147</td>\n",
       "      <td>738.302551</td>\n",
       "      <td>738.302551</td>\n",
       "      <td>1005786112</td>\n",
       "    </tr>\n",
       "  </tbody>\n",
       "</table>\n",
       "</div>"
      ],
      "text/plain": [
       "                                 Open        High         Low       Close  \\\n",
       "2021-01-01 03:00:00+00:00  745.017761  747.411865  744.676086  746.319946   \n",
       "2021-01-01 04:00:00+00:00  746.279907  747.090393  741.740967  743.210693   \n",
       "2021-01-01 05:00:00+00:00  743.104675  743.659363  740.996887  741.686218   \n",
       "2021-01-01 06:00:00+00:00  741.622742  743.457153  738.731140  739.942627   \n",
       "2021-01-01 07:00:00+00:00  739.959351  741.063477  736.538147  738.302551   \n",
       "\n",
       "                            Adj Close      Volume  \n",
       "2021-01-01 03:00:00+00:00  746.319946           0  \n",
       "2021-01-01 04:00:00+00:00  743.210693           0  \n",
       "2021-01-01 05:00:00+00:00  741.686218  1162848256  \n",
       "2021-01-01 06:00:00+00:00  739.942627           0  \n",
       "2021-01-01 07:00:00+00:00  738.302551  1005786112  "
      ]
     },
     "execution_count": 5,
     "metadata": {},
     "output_type": "execute_result"
    }
   ],
   "source": [
    "data = yf.download(cryptocurrencies, start='2021-01-01',\n",
    "                end='2021-12-30', interval='1h')\n",
    "data.to_csv('ethereum2021.csv')\n",
    "data.head()"
   ]
  },
  {
   "cell_type": "code",
   "execution_count": 26,
   "id": "d2454e20",
   "metadata": {},
   "outputs": [
    {
     "name": "stdout",
     "output_type": "stream",
     "text": [
      "<class 'pandas.core.frame.DataFrame'>\n",
      "DatetimeIndex: 8496 entries, 2021-01-01 03:00:00+00:00 to 2021-12-30 02:00:00+00:00\n",
      "Data columns (total 6 columns):\n",
      " #   Column     Non-Null Count  Dtype  \n",
      "---  ------     --------------  -----  \n",
      " 0   Open       8496 non-null   float64\n",
      " 1   High       8496 non-null   float64\n",
      " 2   Low        8496 non-null   float64\n",
      " 3   Close      8496 non-null   float64\n",
      " 4   Adj Close  8496 non-null   float64\n",
      " 5   Volume     8496 non-null   int64  \n",
      "dtypes: float64(5), int64(1)\n",
      "memory usage: 464.6 KB\n"
     ]
    }
   ],
   "source": [
    "data.info()"
   ]
  },
  {
   "cell_type": "code",
   "execution_count": null,
   "id": "07455158",
   "metadata": {},
   "outputs": [],
   "source": []
  }
 ],
 "metadata": {
  "kernelspec": {
   "display_name": "Python 3",
   "language": "python",
   "name": "python3"
  },
  "language_info": {
   "codemirror_mode": {
    "name": "ipython",
    "version": 3
   },
   "file_extension": ".py",
   "mimetype": "text/x-python",
   "name": "python",
   "nbconvert_exporter": "python",
   "pygments_lexer": "ipython3",
   "version": "3.8.8"
  }
 },
 "nbformat": 4,
 "nbformat_minor": 5
}
